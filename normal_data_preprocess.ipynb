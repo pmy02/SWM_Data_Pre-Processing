{
 "cells": [
  {
   "cell_type": "code",
   "execution_count": 1,
   "id": "28a3b61b",
   "metadata": {},
   "outputs": [],
   "source": [
    "import json\n",
    "import os\n",
    "import chardet\n",
    "from posixpath import split"
   ]
  },
  {
   "cell_type": "code",
   "execution_count": 17,
   "id": "de191195",
   "metadata": {},
   "outputs": [
    {
     "name": "stdout",
     "output_type": "stream",
     "text": [
      "Validation\n",
      "금융보험\n",
      "민원(콜센터) 질의응답_금융보험_사고 및 보상 문의_Validation.json\n",
      "민원(콜센터) 질의응답_금융보험_이체출금대출서비스_Validation.json\n",
      "민원(콜센터) 질의응답_금융보험_상품 가입 및 해지_Validation.json\n",
      "민원(콜센터) 질의응답_금융보험_잔고 및 거래내역_Validation.json\n",
      "다산콜센터\n",
      "민원(콜센터) 질의응답_다산콜센터_코로나19 관련 상담_Validation.json\n",
      "민원(콜센터) 질의응답_다산콜센터_생활하수도 관련 문의_Validation.json\n",
      "민원(콜센터) 질의응답_다산콜센터_일반행정 문의_Validation.json\n",
      "민원(콜센터) 질의응답_다산콜센터_대중교통 안내_Validation.json\n",
      "쇼핑\n",
      "민원(콜센터) 질의응답_K쇼핑_결제_Validation.json\n",
      "민원(콜센터) 질의응답_K쇼핑_주문_Validation.json\n",
      "민원(콜센터) 질의응답_K쇼핑_배송_Validation.json\n",
      "민원(콜센터) 질의응답_K쇼핑_AS_Validation.json\n",
      "민원(콜센터) 질의응답_K쇼핑_교환_Validation.json\n",
      "민원(콜센터) 질의응답_K쇼핑_업무처리_Validation.json\n",
      "민원(콜센터) 질의응답_K쇼핑_반품_Validation.json\n",
      "질병관리본부\n",
      "민원(콜센터) 질의응답_질병관리본부_약품식품_Validation.json\n",
      "민원(콜센터) 질의응답_질병관리본부_증상징후_Validation.json\n",
      "민원(콜센터) 질의응답_질병관리본부_증상징후1_Validation.json\n",
      "민원(콜센터) 질의응답_질병관리본부_요양기관 현황_Validation.json\n",
      "민원(콜센터) 질의응답_질병관리본부_진료비정보_Validation.json\n",
      "민원(콜센터) 질의응답_질병관리본부_기타문의_Validation.json\n",
      "민원(콜센터) 질의응답_질병관리본부_건강질병1_Validation.json\n",
      "민원(콜센터) 질의응답_질병관리본부_온라인신고_Validation.json\n",
      "민원(콜센터) 질의응답_질병관리본부_약품식품1_Validation.json\n",
      "민원(콜센터) 질의응답_질병관리본부_건강질병_Validation.json\n"
     ]
    }
   ],
   "source": [
    "root = \"your address\"\n",
    "list = os.listdir(root)\n",
    "\n",
    "dataset_all = []\n",
    "dataset_train = []\n",
    "dataset_test = []\n",
    "\n",
    "for cat in list:\n",
    "    if cat in 'Validation':\n",
    "        first_files = os.listdir(root + cat)\n",
    "        print(cat)\n",
    "        for dic in first_files:\n",
    "            if dic not in '.DS_Store':\n",
    "                second_files = os.listdir(root + cat + \"/\" + dic)\n",
    "                print(dic)\n",
    "                os.makedirs(\"your address\" + cat + \"/\" + dic)\n",
    "                for file in second_files:\n",
    "                    if file not in '.DS_Store':\n",
    "                        print(file)\n",
    "                        fname = root + cat + \"/\" + dic + \"/\" + file\n",
    "                        \n",
    "                        possible_word = ['고객질문(요청)', '상담사질문(요청)', '고객답변', '상담사답변']\n",
    "                        result = {}\n",
    "                        try:\n",
    "                            with open(fname,encoding='UTF-8') as f:\n",
    "                                data = json.load(f)\n",
    "                                for i in data :\n",
    "                                    if(result.get(i['대화셋일련번호']) == None) :\n",
    "                                        result[i['대화셋일련번호']] = []\n",
    "\n",
    "                                    #print(type(result[i['대화셋일련번호']]))\n",
    "                                    for j in possible_word :\n",
    "                                        if i[j] != '' :\n",
    "                                            result[i['대화셋일련번호']].append(i[j].rstrip())\n",
    "                        except:\n",
    "                            with open(fname,encoding='CP949') as f:\n",
    "                                data = json.load(f)\n",
    "                                for i in data :\n",
    "                                    if(result.get(i['대화셋일련번호']) == None) :\n",
    "                                        result[i['대화셋일련번호']] = []\n",
    "\n",
    "                                    #print(type(result[i['대화셋일련번호']]))\n",
    "                                    for j in possible_word :\n",
    "                                        if i[j] != '' :\n",
    "                                            result[i['대화셋일련번호']].append(i[j].rstrip())\n",
    "\n",
    "                        with open(\"your address\" + cat + \"/\" + dic + \"/\" + file, 'w') as f:\n",
    "                            json.dump(result, f, ensure_ascii= False, indent = 4)"
   ]
  }
 ],
 "metadata": {
  "kernelspec": {
   "display_name": "Python 3.9.13 64-bit",
   "language": "python",
   "name": "python3"
  },
  "language_info": {
   "codemirror_mode": {
    "name": "ipython",
    "version": 3
   },
   "file_extension": ".py",
   "mimetype": "text/x-python",
   "name": "python",
   "nbconvert_exporter": "python",
   "pygments_lexer": "ipython3",
   "version": "3.9.13"
  },
  "vscode": {
   "interpreter": {
    "hash": "b0fa6594d8f4cbf19f97940f81e996739fb7646882a419484c72d19e05852a7e"
   }
  }
 },
 "nbformat": 4,
 "nbformat_minor": 5
}
